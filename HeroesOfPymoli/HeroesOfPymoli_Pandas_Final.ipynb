{
 "cells": [
  {
   "cell_type": "markdown",
   "metadata": {},
   "source": [
    "### Note\n",
    "* Instructions have been included for each segment. You do not have to follow them exactly, but they are included to help you think through the steps."
   ]
  },
  {
   "cell_type": "code",
   "execution_count": 1,
   "metadata": {},
   "outputs": [
    {
     "data": {
      "text/html": [
       "<div>\n",
       "<style scoped>\n",
       "    .dataframe tbody tr th:only-of-type {\n",
       "        vertical-align: middle;\n",
       "    }\n",
       "\n",
       "    .dataframe tbody tr th {\n",
       "        vertical-align: top;\n",
       "    }\n",
       "\n",
       "    .dataframe thead th {\n",
       "        text-align: right;\n",
       "    }\n",
       "</style>\n",
       "<table border=\"1\" class=\"dataframe\">\n",
       "  <thead>\n",
       "    <tr style=\"text-align: right;\">\n",
       "      <th></th>\n",
       "      <th>Purchase ID</th>\n",
       "      <th>SN</th>\n",
       "      <th>Age</th>\n",
       "      <th>Gender</th>\n",
       "      <th>Item ID</th>\n",
       "      <th>Item Name</th>\n",
       "      <th>Price</th>\n",
       "    </tr>\n",
       "  </thead>\n",
       "  <tbody>\n",
       "    <tr>\n",
       "      <td>0</td>\n",
       "      <td>0</td>\n",
       "      <td>Lisim78</td>\n",
       "      <td>20</td>\n",
       "      <td>Male</td>\n",
       "      <td>108</td>\n",
       "      <td>Extraction, Quickblade Of Trembling Hands</td>\n",
       "      <td>3.53</td>\n",
       "    </tr>\n",
       "    <tr>\n",
       "      <td>1</td>\n",
       "      <td>1</td>\n",
       "      <td>Lisovynya38</td>\n",
       "      <td>40</td>\n",
       "      <td>Male</td>\n",
       "      <td>143</td>\n",
       "      <td>Frenzied Scimitar</td>\n",
       "      <td>1.56</td>\n",
       "    </tr>\n",
       "    <tr>\n",
       "      <td>2</td>\n",
       "      <td>2</td>\n",
       "      <td>Ithergue48</td>\n",
       "      <td>24</td>\n",
       "      <td>Male</td>\n",
       "      <td>92</td>\n",
       "      <td>Final Critic</td>\n",
       "      <td>4.88</td>\n",
       "    </tr>\n",
       "    <tr>\n",
       "      <td>3</td>\n",
       "      <td>3</td>\n",
       "      <td>Chamassasya86</td>\n",
       "      <td>24</td>\n",
       "      <td>Male</td>\n",
       "      <td>100</td>\n",
       "      <td>Blindscythe</td>\n",
       "      <td>3.27</td>\n",
       "    </tr>\n",
       "    <tr>\n",
       "      <td>4</td>\n",
       "      <td>4</td>\n",
       "      <td>Iskosia90</td>\n",
       "      <td>23</td>\n",
       "      <td>Male</td>\n",
       "      <td>131</td>\n",
       "      <td>Fury</td>\n",
       "      <td>1.44</td>\n",
       "    </tr>\n",
       "  </tbody>\n",
       "</table>\n",
       "</div>"
      ],
      "text/plain": [
       "   Purchase ID             SN  Age Gender  Item ID  \\\n",
       "0            0        Lisim78   20   Male      108   \n",
       "1            1    Lisovynya38   40   Male      143   \n",
       "2            2     Ithergue48   24   Male       92   \n",
       "3            3  Chamassasya86   24   Male      100   \n",
       "4            4      Iskosia90   23   Male      131   \n",
       "\n",
       "                                   Item Name  Price  \n",
       "0  Extraction, Quickblade Of Trembling Hands   3.53  \n",
       "1                          Frenzied Scimitar   1.56  \n",
       "2                               Final Critic   4.88  \n",
       "3                                Blindscythe   3.27  \n",
       "4                                       Fury   1.44  "
      ]
     },
     "execution_count": 1,
     "metadata": {},
     "output_type": "execute_result"
    }
   ],
   "source": [
    "# Dependencies and Setup\n",
    "import pandas as pd\n",
    "\n",
    "# File to Load (Remember to Change These)\n",
    "file_to_load = \"purchase_data.csv\"\n",
    "\n",
    "# Read Purchasing File and store into Pandas data frame\n",
    "purchase_data = pd.read_csv(file_to_load)\n",
    "purchase_data.head()"
   ]
  },
  {
   "cell_type": "markdown",
   "metadata": {},
   "source": [
    "## Player Count"
   ]
  },
  {
   "cell_type": "markdown",
   "metadata": {},
   "source": [
    "* Display the total number of players\n"
   ]
  },
  {
   "cell_type": "code",
   "execution_count": 2,
   "metadata": {
    "scrolled": true
   },
   "outputs": [
    {
     "data": {
      "text/html": [
       "<div>\n",
       "<style scoped>\n",
       "    .dataframe tbody tr th:only-of-type {\n",
       "        vertical-align: middle;\n",
       "    }\n",
       "\n",
       "    .dataframe tbody tr th {\n",
       "        vertical-align: top;\n",
       "    }\n",
       "\n",
       "    .dataframe thead th {\n",
       "        text-align: right;\n",
       "    }\n",
       "</style>\n",
       "<table border=\"1\" class=\"dataframe\">\n",
       "  <thead>\n",
       "    <tr style=\"text-align: right;\">\n",
       "      <th></th>\n",
       "      <th>Total Players</th>\n",
       "    </tr>\n",
       "  </thead>\n",
       "  <tbody>\n",
       "    <tr>\n",
       "      <td>0</td>\n",
       "      <td>576</td>\n",
       "    </tr>\n",
       "  </tbody>\n",
       "</table>\n",
       "</div>"
      ],
      "text/plain": [
       "   Total Players\n",
       "0            576"
      ]
     },
     "execution_count": 2,
     "metadata": {},
     "output_type": "execute_result"
    }
   ],
   "source": [
    "#Finding the unique count of players using nunique function\n",
    "unique_count = purchase_data[\"SN\"].nunique(dropna = True) \n",
    "\n",
    "#Creating a DataFrame for the unique value count of players\n",
    "Total_players = pd.DataFrame([{\"Total Players\": unique_count }])\n",
    "\n",
    "#Printing the DataFrame\n",
    "Total_players"
   ]
  },
  {
   "cell_type": "markdown",
   "metadata": {},
   "source": [
    "## Purchasing Analysis (Total)"
   ]
  },
  {
   "cell_type": "markdown",
   "metadata": {},
   "source": [
    "* Run basic calculations to obtain number of unique items, average price, etc.\n",
    "\n",
    "\n",
    "* Create a summary data frame to hold the results\n",
    "\n",
    "\n",
    "* Optional: give the displayed data cleaner formatting\n",
    "\n",
    "\n",
    "* Display the summary data frame\n"
   ]
  },
  {
   "cell_type": "code",
   "execution_count": 3,
   "metadata": {
    "scrolled": true
   },
   "outputs": [
    {
     "data": {
      "text/html": [
       "<div>\n",
       "<style scoped>\n",
       "    .dataframe tbody tr th:only-of-type {\n",
       "        vertical-align: middle;\n",
       "    }\n",
       "\n",
       "    .dataframe tbody tr th {\n",
       "        vertical-align: top;\n",
       "    }\n",
       "\n",
       "    .dataframe thead th {\n",
       "        text-align: right;\n",
       "    }\n",
       "</style>\n",
       "<table border=\"1\" class=\"dataframe\">\n",
       "  <thead>\n",
       "    <tr style=\"text-align: right;\">\n",
       "      <th></th>\n",
       "      <th>Number of Unique Items</th>\n",
       "      <th>Average Price</th>\n",
       "      <th>Number of Purchases</th>\n",
       "      <th>Total Revenue</th>\n",
       "    </tr>\n",
       "  </thead>\n",
       "  <tbody>\n",
       "    <tr>\n",
       "      <td>0</td>\n",
       "      <td>179</td>\n",
       "      <td>$3.05</td>\n",
       "      <td>780</td>\n",
       "      <td>$2379.77</td>\n",
       "    </tr>\n",
       "  </tbody>\n",
       "</table>\n",
       "</div>"
      ],
      "text/plain": [
       "   Number of Unique Items Average Price  Number of Purchases Total Revenue\n",
       "0                     179         $3.05                  780      $2379.77"
      ]
     },
     "execution_count": 3,
     "metadata": {},
     "output_type": "execute_result"
    }
   ],
   "source": [
    "#Calculating unique count of Items\n",
    "unique_item = purchase_data[\"Item Name\"].nunique(dropna = True) \n",
    "\n",
    "\n",
    "# Calculating average price of the items from the given data and rounding it by 2 decimals\n",
    "average_price = round(purchase_data[\"Price\"].mean() , 2)\n",
    "\n",
    "\n",
    "# Calculating the total number of unique purchases\n",
    "purchase_count = purchase_data[\"Purchase ID\"].nunique(dropna = True)\n",
    "\n",
    "\n",
    "#Calculating the total revinue\n",
    "Total_rev = purchase_data[\"Price\"].sum()\n",
    "\n",
    "\n",
    "#Defining the DataFrame \n",
    "\n",
    "purchasing_analysis = pd.DataFrame ( {\n",
    "        \"Number of Unique Items\" : [unique_item],\n",
    "        \"Average Price\" : \"$\" +  str(average_price),\n",
    "        \"Number of Purchases\": [purchase_count],\n",
    "        \"Total Revenue\" : \"$\" +  str(Total_rev)   \n",
    "})\n",
    "\n",
    "#Printing the DataFrame for summary\n",
    "purchasing_analysis"
   ]
  },
  {
   "cell_type": "markdown",
   "metadata": {},
   "source": [
    "## Gender Demographics"
   ]
  },
  {
   "cell_type": "markdown",
   "metadata": {},
   "source": [
    "* Percentage and Count of Male Players\n",
    "\n",
    "\n",
    "* Percentage and Count of Female Players\n",
    "\n",
    "\n",
    "* Percentage and Count of Other / Non-Disclosed\n",
    "\n",
    "\n"
   ]
  },
  {
   "cell_type": "code",
   "execution_count": 4,
   "metadata": {},
   "outputs": [
    {
     "data": {
      "text/html": [
       "<style  type=\"text/css\" >\n",
       "</style><table id=\"T_82ff5962_1d72_11ea_9f19_f4963427785a\" ><thead>    <tr>        <th class=\"blank level0\" ></th>        <th class=\"col_heading level0 col0\" >Total Count</th>        <th class=\"col_heading level0 col1\" >Percentage of Players</th>    </tr>    <tr>        <th class=\"index_name level0\" >Gender</th>        <th class=\"blank\" ></th>        <th class=\"blank\" ></th>    </tr></thead><tbody>\n",
       "                <tr>\n",
       "                        <th id=\"T_82ff5962_1d72_11ea_9f19_f4963427785alevel0_row0\" class=\"row_heading level0 row0\" >Female</th>\n",
       "                        <td id=\"T_82ff5962_1d72_11ea_9f19_f4963427785arow0_col0\" class=\"data row0 col0\" >81</td>\n",
       "                        <td id=\"T_82ff5962_1d72_11ea_9f19_f4963427785arow0_col1\" class=\"data row0 col1\" >14.06%</td>\n",
       "            </tr>\n",
       "            <tr>\n",
       "                        <th id=\"T_82ff5962_1d72_11ea_9f19_f4963427785alevel0_row1\" class=\"row_heading level0 row1\" >Male</th>\n",
       "                        <td id=\"T_82ff5962_1d72_11ea_9f19_f4963427785arow1_col0\" class=\"data row1 col0\" >484</td>\n",
       "                        <td id=\"T_82ff5962_1d72_11ea_9f19_f4963427785arow1_col1\" class=\"data row1 col1\" >84.03%</td>\n",
       "            </tr>\n",
       "            <tr>\n",
       "                        <th id=\"T_82ff5962_1d72_11ea_9f19_f4963427785alevel0_row2\" class=\"row_heading level0 row2\" >Other / Non-Disclosed</th>\n",
       "                        <td id=\"T_82ff5962_1d72_11ea_9f19_f4963427785arow2_col0\" class=\"data row2 col0\" >11</td>\n",
       "                        <td id=\"T_82ff5962_1d72_11ea_9f19_f4963427785arow2_col1\" class=\"data row2 col1\" >1.91%</td>\n",
       "            </tr>\n",
       "    </tbody></table>"
      ],
      "text/plain": [
       "<pandas.io.formats.style.Styler at 0x28c180fe4c8>"
      ]
     },
     "execution_count": 4,
     "metadata": {},
     "output_type": "execute_result"
    }
   ],
   "source": [
    "#Finding the count of unique Players by doing Group by Gender\n",
    "unique_gender = purchase_data.groupby(\"Gender\") [\"SN\"].nunique(dropna = True)\n",
    "\n",
    "#Creating a DataFrame\n",
    "count_players = pd.DataFrame(unique_gender)\n",
    "\n",
    "#Renaming the columns of DataFrame\n",
    "count_players = count_players.rename(columns={\"SN\" : \"Total Count\"})\n",
    "\n",
    "#Calculating the sum of Total unique players\n",
    "sum = count_players[\"Total Count\"].sum()\n",
    "\n",
    "#Calculating the percentage of players by Gender\n",
    "player_percent = count_players[\"Total Count\"] / sum * 100 \n",
    "\n",
    "#Rounding the percentage of players to 2 decimals\n",
    "count_players[\"Percentage of Players\"] = round(player_percent, 2)\n",
    "\n",
    "#Formating the percentage column to add \" % \"  at the end\n",
    "count_players.style.format({\"Percentage of Players\" : \"{:,.2f}%\"} )"
   ]
  },
  {
   "cell_type": "markdown",
   "metadata": {},
   "source": [
    "\n",
    "## Purchasing Analysis (Gender)"
   ]
  },
  {
   "cell_type": "markdown",
   "metadata": {},
   "source": [
    "* Run basic calculations to obtain purchase count, avg. purchase price, avg. purchase total per person etc. by gender\n",
    "\n",
    "\n",
    "\n",
    "\n",
    "* Create a summary data frame to hold the results\n",
    "\n",
    "\n",
    "* Optional: give the displayed data cleaner formatting\n",
    "\n",
    "\n",
    "* Display the summary data frame"
   ]
  },
  {
   "cell_type": "code",
   "execution_count": 5,
   "metadata": {},
   "outputs": [
    {
     "data": {
      "text/html": [
       "<style  type=\"text/css\" >\n",
       "</style><table id=\"T_92fafaac_1d72_11ea_8986_f4963427785a\" ><thead>    <tr>        <th class=\"blank level0\" ></th>        <th class=\"col_heading level0 col0\" >Total Purchase Value</th>        <th class=\"col_heading level0 col1\" >Average Purchase Price</th>        <th class=\"col_heading level0 col2\" >Purchase count</th>        <th class=\"col_heading level0 col3\" >Avg Total Purchase per Person</th>    </tr>    <tr>        <th class=\"index_name level0\" >Gender</th>        <th class=\"blank\" ></th>        <th class=\"blank\" ></th>        <th class=\"blank\" ></th>        <th class=\"blank\" ></th>    </tr></thead><tbody>\n",
       "                <tr>\n",
       "                        <th id=\"T_92fafaac_1d72_11ea_8986_f4963427785alevel0_row0\" class=\"row_heading level0 row0\" >Female</th>\n",
       "                        <td id=\"T_92fafaac_1d72_11ea_8986_f4963427785arow0_col0\" class=\"data row0 col0\" >$361.94</td>\n",
       "                        <td id=\"T_92fafaac_1d72_11ea_8986_f4963427785arow0_col1\" class=\"data row0 col1\" >$3.20</td>\n",
       "                        <td id=\"T_92fafaac_1d72_11ea_8986_f4963427785arow0_col2\" class=\"data row0 col2\" >113</td>\n",
       "                        <td id=\"T_92fafaac_1d72_11ea_8986_f4963427785arow0_col3\" class=\"data row0 col3\" >$4.47</td>\n",
       "            </tr>\n",
       "            <tr>\n",
       "                        <th id=\"T_92fafaac_1d72_11ea_8986_f4963427785alevel0_row1\" class=\"row_heading level0 row1\" >Male</th>\n",
       "                        <td id=\"T_92fafaac_1d72_11ea_8986_f4963427785arow1_col0\" class=\"data row1 col0\" >$1,967.64</td>\n",
       "                        <td id=\"T_92fafaac_1d72_11ea_8986_f4963427785arow1_col1\" class=\"data row1 col1\" >$3.02</td>\n",
       "                        <td id=\"T_92fafaac_1d72_11ea_8986_f4963427785arow1_col2\" class=\"data row1 col2\" >652</td>\n",
       "                        <td id=\"T_92fafaac_1d72_11ea_8986_f4963427785arow1_col3\" class=\"data row1 col3\" >$4.07</td>\n",
       "            </tr>\n",
       "            <tr>\n",
       "                        <th id=\"T_92fafaac_1d72_11ea_8986_f4963427785alevel0_row2\" class=\"row_heading level0 row2\" >Other / Non-Disclosed</th>\n",
       "                        <td id=\"T_92fafaac_1d72_11ea_8986_f4963427785arow2_col0\" class=\"data row2 col0\" >$50.19</td>\n",
       "                        <td id=\"T_92fafaac_1d72_11ea_8986_f4963427785arow2_col1\" class=\"data row2 col1\" >$3.35</td>\n",
       "                        <td id=\"T_92fafaac_1d72_11ea_8986_f4963427785arow2_col2\" class=\"data row2 col2\" >15</td>\n",
       "                        <td id=\"T_92fafaac_1d72_11ea_8986_f4963427785arow2_col3\" class=\"data row2 col3\" >$4.56</td>\n",
       "            </tr>\n",
       "    </tbody></table>"
      ],
      "text/plain": [
       "<pandas.io.formats.style.Styler at 0x28c1898d3c8>"
      ]
     },
     "execution_count": 5,
     "metadata": {},
     "output_type": "execute_result"
    }
   ],
   "source": [
    "\n",
    "#Calculating the total purchases\n",
    "purchase_sum = purchase_data.groupby(\"Gender\") [\"Price\"].sum()\n",
    "purchase_sum\n",
    "\n",
    "#Calculating the purchase average price by Gender and rounding it  to 2 Decimals\n",
    "purchase_avg = round(purchase_data.groupby(\"Gender\") [\"Price\"].mean() , 2)\n",
    "purchase_avg\n",
    "\n",
    "#Counting the unique purchase ID's by Gender\n",
    "purchase_count = purchase_data.groupby(\"Gender\") [\"Purchase ID\"].nunique(dropna = True)\n",
    "purchase_count\n",
    "\n",
    "count = purchase_data.groupby(\"Gender\") [\"Price\"].mean()\n",
    "\n",
    "#Calculating and Rounding the Average Purchase per person to 2 decimal\n",
    "avg_purchase_per_person = round(purchase_sum/unique_gender, 2)\n",
    "\n",
    "#Defining the dataframe and adding columns for Purchase avg, purchase count and avg purchase per person\n",
    "df1 =  pd.DataFrame(purchase_sum)\n",
    "df1 [\"Average Purchase Price\"] = purchase_avg\n",
    "df1 [\"Purchase count\"] = purchase_count\n",
    "df1 [\"Avg Total Purchase per Person\"] = avg_purchase_per_person\n",
    "\n",
    "#Renaming columns and creating a new DataFrame for final output\n",
    "Pur_analysis_gender =  df1.rename(columns={\"Price\": \"Total Purchase Value\", })\n",
    "\n",
    "#Formating the percentage column to add \" $\"  at the front of Values\n",
    "Pur_analysis_gender.style.format({\"Total Purchase Value\": \"${:,.2f}\", \n",
    "                                 \"Average Purchase Price\": \"${:,.2f}\",\n",
    "                                 \"Avg Total Purchase per Person\": \"${:,.2f}\" })\n"
   ]
  },
  {
   "cell_type": "markdown",
   "metadata": {},
   "source": [
    "## Age Demographics"
   ]
  },
  {
   "cell_type": "markdown",
   "metadata": {},
   "source": [
    "* Establish bins for ages\n",
    "\n",
    "\n",
    "* Categorize the existing players using the age bins. Hint: use pd.cut()\n",
    "\n",
    "\n",
    "* Calculate the numbers and percentages by age group\n",
    "\n",
    "\n",
    "* Create a summary data frame to hold the results\n",
    "\n",
    "\n",
    "* Optional: round the percentage column to two decimal points\n",
    "\n",
    "\n",
    "* Display Age Demographics Table\n"
   ]
  },
  {
   "cell_type": "code",
   "execution_count": 6,
   "metadata": {},
   "outputs": [
    {
     "data": {
      "text/html": [
       "<style  type=\"text/css\" >\n",
       "</style><table id=\"T_a7780a68_1d72_11ea_9886_f4963427785a\" ><thead>    <tr>        <th class=\"blank level0\" ></th>        <th class=\"col_heading level0 col0\" >Total Count</th>        <th class=\"col_heading level0 col1\" >Percentage of Players</th>    </tr></thead><tbody>\n",
       "                <tr>\n",
       "                        <th id=\"T_a7780a68_1d72_11ea_9886_f4963427785alevel0_row0\" class=\"row_heading level0 row0\" >< 10</th>\n",
       "                        <td id=\"T_a7780a68_1d72_11ea_9886_f4963427785arow0_col0\" class=\"data row0 col0\" >17</td>\n",
       "                        <td id=\"T_a7780a68_1d72_11ea_9886_f4963427785arow0_col1\" class=\"data row0 col1\" >2.95%</td>\n",
       "            </tr>\n",
       "            <tr>\n",
       "                        <th id=\"T_a7780a68_1d72_11ea_9886_f4963427785alevel0_row1\" class=\"row_heading level0 row1\" >10-14</th>\n",
       "                        <td id=\"T_a7780a68_1d72_11ea_9886_f4963427785arow1_col0\" class=\"data row1 col0\" >22</td>\n",
       "                        <td id=\"T_a7780a68_1d72_11ea_9886_f4963427785arow1_col1\" class=\"data row1 col1\" >3.82%</td>\n",
       "            </tr>\n",
       "            <tr>\n",
       "                        <th id=\"T_a7780a68_1d72_11ea_9886_f4963427785alevel0_row2\" class=\"row_heading level0 row2\" >15-19</th>\n",
       "                        <td id=\"T_a7780a68_1d72_11ea_9886_f4963427785arow2_col0\" class=\"data row2 col0\" >107</td>\n",
       "                        <td id=\"T_a7780a68_1d72_11ea_9886_f4963427785arow2_col1\" class=\"data row2 col1\" >18.58%</td>\n",
       "            </tr>\n",
       "            <tr>\n",
       "                        <th id=\"T_a7780a68_1d72_11ea_9886_f4963427785alevel0_row3\" class=\"row_heading level0 row3\" >20-24</th>\n",
       "                        <td id=\"T_a7780a68_1d72_11ea_9886_f4963427785arow3_col0\" class=\"data row3 col0\" >258</td>\n",
       "                        <td id=\"T_a7780a68_1d72_11ea_9886_f4963427785arow3_col1\" class=\"data row3 col1\" >44.79%</td>\n",
       "            </tr>\n",
       "            <tr>\n",
       "                        <th id=\"T_a7780a68_1d72_11ea_9886_f4963427785alevel0_row4\" class=\"row_heading level0 row4\" >25-29</th>\n",
       "                        <td id=\"T_a7780a68_1d72_11ea_9886_f4963427785arow4_col0\" class=\"data row4 col0\" >77</td>\n",
       "                        <td id=\"T_a7780a68_1d72_11ea_9886_f4963427785arow4_col1\" class=\"data row4 col1\" >13.37%</td>\n",
       "            </tr>\n",
       "            <tr>\n",
       "                        <th id=\"T_a7780a68_1d72_11ea_9886_f4963427785alevel0_row5\" class=\"row_heading level0 row5\" >30-34</th>\n",
       "                        <td id=\"T_a7780a68_1d72_11ea_9886_f4963427785arow5_col0\" class=\"data row5 col0\" >52</td>\n",
       "                        <td id=\"T_a7780a68_1d72_11ea_9886_f4963427785arow5_col1\" class=\"data row5 col1\" >9.03%</td>\n",
       "            </tr>\n",
       "            <tr>\n",
       "                        <th id=\"T_a7780a68_1d72_11ea_9886_f4963427785alevel0_row6\" class=\"row_heading level0 row6\" >35-39</th>\n",
       "                        <td id=\"T_a7780a68_1d72_11ea_9886_f4963427785arow6_col0\" class=\"data row6 col0\" >31</td>\n",
       "                        <td id=\"T_a7780a68_1d72_11ea_9886_f4963427785arow6_col1\" class=\"data row6 col1\" >5.38%</td>\n",
       "            </tr>\n",
       "            <tr>\n",
       "                        <th id=\"T_a7780a68_1d72_11ea_9886_f4963427785alevel0_row7\" class=\"row_heading level0 row7\" >40+</th>\n",
       "                        <td id=\"T_a7780a68_1d72_11ea_9886_f4963427785arow7_col0\" class=\"data row7 col0\" >12</td>\n",
       "                        <td id=\"T_a7780a68_1d72_11ea_9886_f4963427785arow7_col1\" class=\"data row7 col1\" >2.08%</td>\n",
       "            </tr>\n",
       "    </tbody></table>"
      ],
      "text/plain": [
       "<pandas.io.formats.style.Styler at 0x28c18a1f448>"
      ]
     },
     "execution_count": 6,
     "metadata": {},
     "output_type": "execute_result"
    }
   ],
   "source": [
    "#Define the bins for age groups\n",
    "bins_age = [0, 9.99, 14, 19, 24, 29, 34, 39, 100]\n",
    "\n",
    "#Define the lables group names\n",
    "grouped_name = [\"< 10\", \"10-14\", \"15-19\", \"20-24\", \"25-29\", \"30-34\", \"35-39\", \"40+\"]\n",
    "\n",
    "#Adding Age group classification column and cut it to group into buckets\n",
    "purchase_data[\"Age Group\"] = pd.cut(purchase_data[\"Age\"],bins_age, labels=grouped_name)\n",
    "\n",
    "#Aggregating all the data sets by using group by on Age Group\n",
    "age_group = purchase_data.groupby(\"Age Group\")\n",
    "\n",
    "#Calculating the unique Total age by name\n",
    "total_age = age_group[\"SN\"].nunique()\n",
    "\n",
    "#Calculating the percentage of age group \n",
    "percentage_age = (total_age/sum ) * 100\n",
    "\n",
    "#Defining the Data Frame\n",
    "age_demographics = pd.DataFrame({\"Total Count\":total_age,\"Percentage of Players\": percentage_age})\n",
    "\n",
    "#Index set to none for siaplaying the final summary\n",
    "age_demographics.index.name = None\n",
    "\n",
    "#Formating the percentage column to add \" %\"  at the end\n",
    "age_demographics.style.format({\"Percentage of Players\":\"{:,.2f}%\"})"
   ]
  },
  {
   "cell_type": "markdown",
   "metadata": {},
   "source": [
    "## Purchasing Analysis (Age)"
   ]
  },
  {
   "cell_type": "markdown",
   "metadata": {},
   "source": [
    "* Bin the purchase_data data frame by age\n",
    "\n",
    "\n",
    "* Run basic calculations to obtain purchase count, avg. purchase price, avg. purchase total per person etc. in the table below\n",
    "\n",
    "\n",
    "* Create a summary data frame to hold the results\n",
    "\n",
    "\n",
    "* Optional: give the displayed data cleaner formatting\n",
    "\n",
    "\n",
    "* Display the summary data frame"
   ]
  },
  {
   "cell_type": "code",
   "execution_count": 7,
   "metadata": {},
   "outputs": [
    {
     "data": {
      "text/html": [
       "<style  type=\"text/css\" >\n",
       "</style><table id=\"T_af68da9c_1d72_11ea_bdc5_f4963427785a\" ><thead>    <tr>        <th class=\"blank level0\" ></th>        <th class=\"col_heading level0 col0\" >Purchase Count</th>        <th class=\"col_heading level0 col1\" >Average Purchase Price</th>        <th class=\"col_heading level0 col2\" >Total Purchase Value</th>        <th class=\"col_heading level0 col3\" >Average Purchase Total per Person</th>    </tr></thead><tbody>\n",
       "                <tr>\n",
       "                        <th id=\"T_af68da9c_1d72_11ea_bdc5_f4963427785alevel0_row0\" class=\"row_heading level0 row0\" >< 10</th>\n",
       "                        <td id=\"T_af68da9c_1d72_11ea_bdc5_f4963427785arow0_col0\" class=\"data row0 col0\" >23</td>\n",
       "                        <td id=\"T_af68da9c_1d72_11ea_bdc5_f4963427785arow0_col1\" class=\"data row0 col1\" >$3.35</td>\n",
       "                        <td id=\"T_af68da9c_1d72_11ea_bdc5_f4963427785arow0_col2\" class=\"data row0 col2\" >$77.13</td>\n",
       "                        <td id=\"T_af68da9c_1d72_11ea_bdc5_f4963427785arow0_col3\" class=\"data row0 col3\" >$4.54</td>\n",
       "            </tr>\n",
       "            <tr>\n",
       "                        <th id=\"T_af68da9c_1d72_11ea_bdc5_f4963427785alevel0_row1\" class=\"row_heading level0 row1\" >10-14</th>\n",
       "                        <td id=\"T_af68da9c_1d72_11ea_bdc5_f4963427785arow1_col0\" class=\"data row1 col0\" >28</td>\n",
       "                        <td id=\"T_af68da9c_1d72_11ea_bdc5_f4963427785arow1_col1\" class=\"data row1 col1\" >$2.96</td>\n",
       "                        <td id=\"T_af68da9c_1d72_11ea_bdc5_f4963427785arow1_col2\" class=\"data row1 col2\" >$82.78</td>\n",
       "                        <td id=\"T_af68da9c_1d72_11ea_bdc5_f4963427785arow1_col3\" class=\"data row1 col3\" >$3.76</td>\n",
       "            </tr>\n",
       "            <tr>\n",
       "                        <th id=\"T_af68da9c_1d72_11ea_bdc5_f4963427785alevel0_row2\" class=\"row_heading level0 row2\" >15-19</th>\n",
       "                        <td id=\"T_af68da9c_1d72_11ea_bdc5_f4963427785arow2_col0\" class=\"data row2 col0\" >136</td>\n",
       "                        <td id=\"T_af68da9c_1d72_11ea_bdc5_f4963427785arow2_col1\" class=\"data row2 col1\" >$3.04</td>\n",
       "                        <td id=\"T_af68da9c_1d72_11ea_bdc5_f4963427785arow2_col2\" class=\"data row2 col2\" >$412.89</td>\n",
       "                        <td id=\"T_af68da9c_1d72_11ea_bdc5_f4963427785arow2_col3\" class=\"data row2 col3\" >$3.86</td>\n",
       "            </tr>\n",
       "            <tr>\n",
       "                        <th id=\"T_af68da9c_1d72_11ea_bdc5_f4963427785alevel0_row3\" class=\"row_heading level0 row3\" >20-24</th>\n",
       "                        <td id=\"T_af68da9c_1d72_11ea_bdc5_f4963427785arow3_col0\" class=\"data row3 col0\" >365</td>\n",
       "                        <td id=\"T_af68da9c_1d72_11ea_bdc5_f4963427785arow3_col1\" class=\"data row3 col1\" >$3.05</td>\n",
       "                        <td id=\"T_af68da9c_1d72_11ea_bdc5_f4963427785arow3_col2\" class=\"data row3 col2\" >$1,114.06</td>\n",
       "                        <td id=\"T_af68da9c_1d72_11ea_bdc5_f4963427785arow3_col3\" class=\"data row3 col3\" >$4.32</td>\n",
       "            </tr>\n",
       "            <tr>\n",
       "                        <th id=\"T_af68da9c_1d72_11ea_bdc5_f4963427785alevel0_row4\" class=\"row_heading level0 row4\" >25-29</th>\n",
       "                        <td id=\"T_af68da9c_1d72_11ea_bdc5_f4963427785arow4_col0\" class=\"data row4 col0\" >101</td>\n",
       "                        <td id=\"T_af68da9c_1d72_11ea_bdc5_f4963427785arow4_col1\" class=\"data row4 col1\" >$2.90</td>\n",
       "                        <td id=\"T_af68da9c_1d72_11ea_bdc5_f4963427785arow4_col2\" class=\"data row4 col2\" >$293.00</td>\n",
       "                        <td id=\"T_af68da9c_1d72_11ea_bdc5_f4963427785arow4_col3\" class=\"data row4 col3\" >$3.81</td>\n",
       "            </tr>\n",
       "            <tr>\n",
       "                        <th id=\"T_af68da9c_1d72_11ea_bdc5_f4963427785alevel0_row5\" class=\"row_heading level0 row5\" >30-34</th>\n",
       "                        <td id=\"T_af68da9c_1d72_11ea_bdc5_f4963427785arow5_col0\" class=\"data row5 col0\" >73</td>\n",
       "                        <td id=\"T_af68da9c_1d72_11ea_bdc5_f4963427785arow5_col1\" class=\"data row5 col1\" >$2.93</td>\n",
       "                        <td id=\"T_af68da9c_1d72_11ea_bdc5_f4963427785arow5_col2\" class=\"data row5 col2\" >$214.00</td>\n",
       "                        <td id=\"T_af68da9c_1d72_11ea_bdc5_f4963427785arow5_col3\" class=\"data row5 col3\" >$4.12</td>\n",
       "            </tr>\n",
       "            <tr>\n",
       "                        <th id=\"T_af68da9c_1d72_11ea_bdc5_f4963427785alevel0_row6\" class=\"row_heading level0 row6\" >35-39</th>\n",
       "                        <td id=\"T_af68da9c_1d72_11ea_bdc5_f4963427785arow6_col0\" class=\"data row6 col0\" >41</td>\n",
       "                        <td id=\"T_af68da9c_1d72_11ea_bdc5_f4963427785arow6_col1\" class=\"data row6 col1\" >$3.60</td>\n",
       "                        <td id=\"T_af68da9c_1d72_11ea_bdc5_f4963427785arow6_col2\" class=\"data row6 col2\" >$147.67</td>\n",
       "                        <td id=\"T_af68da9c_1d72_11ea_bdc5_f4963427785arow6_col3\" class=\"data row6 col3\" >$4.76</td>\n",
       "            </tr>\n",
       "            <tr>\n",
       "                        <th id=\"T_af68da9c_1d72_11ea_bdc5_f4963427785alevel0_row7\" class=\"row_heading level0 row7\" >40+</th>\n",
       "                        <td id=\"T_af68da9c_1d72_11ea_bdc5_f4963427785arow7_col0\" class=\"data row7 col0\" >13</td>\n",
       "                        <td id=\"T_af68da9c_1d72_11ea_bdc5_f4963427785arow7_col1\" class=\"data row7 col1\" >$2.94</td>\n",
       "                        <td id=\"T_af68da9c_1d72_11ea_bdc5_f4963427785arow7_col2\" class=\"data row7 col2\" >$38.24</td>\n",
       "                        <td id=\"T_af68da9c_1d72_11ea_bdc5_f4963427785arow7_col3\" class=\"data row7 col3\" >$3.19</td>\n",
       "            </tr>\n",
       "    </tbody></table>"
      ],
      "text/plain": [
       "<pandas.io.formats.style.Styler at 0x28c180e9308>"
      ]
     },
     "execution_count": 7,
     "metadata": {},
     "output_type": "execute_result"
    }
   ],
   "source": [
    "#Define the bins for age groups\n",
    "bins_age = [0, 9.99, 14, 19, 24, 29, 34, 39, 100]\n",
    "\n",
    "#Define the lables group names\n",
    "grouped_name = [\">10\", \"10-14\", \"15-19\", \"20-24\", \"25-29\", \"30-34\", \"35-39\", \"40+\"]\n",
    "\n",
    "#Aggregating all the data sets by using group by on Age Group\n",
    "age_group = purchase_data.groupby(\"Age Group\")\n",
    "\n",
    "#Calculating the count of purchase ID by age group.\n",
    "pur_age_count = age_group[\"Purchase ID\"].count()\n",
    "\n",
    "#Calculating the Avg Purchase Price i.e mean on Price by age\n",
    "Avg_pur_price_age = age_group[\"Price\"].mean()\n",
    "\n",
    "#Calculating the total purchase value \n",
    "total_purchase_value = age_group[\"Price\"].sum()\n",
    "\n",
    "#Calculating the avg purchase price age total\n",
    "Avg_pur_price_age_tot = total_purchase_value/total_age\n",
    "\n",
    "#Defining the DataFrame for Final output\n",
    "age_pur_analysis = pd.DataFrame({\"Purchase Count\": pur_age_count,\n",
    "                                 \"Average Purchase Price\": Avg_pur_price_age,\n",
    "                                 \"Total Purchase Value\":total_purchase_value,\n",
    "                                 \"Average Purchase Total per Person\": Avg_pur_price_age_tot})\n",
    "#Index set to none for siaplaying the final summary\n",
    "age_pur_analysis.index.name = None\n",
    "\n",
    "#Formating the percentage column to add \" %\"  at the end\n",
    "age_pur_analysis.style.format({\"Average Purchase Price\":\"${:,.2f}\",\"Total Purchase Value\":\"${:,.2f}\",\n",
    "                               \"Average Purchase Total per Person\":\"${:,.2f}\"})"
   ]
  },
  {
   "cell_type": "markdown",
   "metadata": {},
   "source": [
    "## Top Spenders"
   ]
  },
  {
   "cell_type": "markdown",
   "metadata": {},
   "source": [
    "* Run basic calculations to obtain the results in the table below\n",
    "\n",
    "\n",
    "* Create a summary data frame to hold the results\n",
    "\n",
    "\n",
    "* Sort the total purchase value column in descending order\n",
    "\n",
    "\n",
    "* Optional: give the displayed data cleaner formatting\n",
    "\n",
    "\n",
    "* Display a preview of the summary data frame\n",
    "\n"
   ]
  },
  {
   "cell_type": "code",
   "execution_count": 8,
   "metadata": {},
   "outputs": [
    {
     "data": {
      "text/html": [
       "<style  type=\"text/css\" >\n",
       "</style><table id=\"T_bef6f8c0_1d72_11ea_b12f_f4963427785a\" ><thead>    <tr>        <th class=\"blank level0\" ></th>        <th class=\"col_heading level0 col0\" >Purchase Count</th>        <th class=\"col_heading level0 col1\" >Average Purchase Price</th>        <th class=\"col_heading level0 col2\" >Total Purchase Value</th>    </tr>    <tr>        <th class=\"index_name level0\" >SN</th>        <th class=\"blank\" ></th>        <th class=\"blank\" ></th>        <th class=\"blank\" ></th>    </tr></thead><tbody>\n",
       "                <tr>\n",
       "                        <th id=\"T_bef6f8c0_1d72_11ea_b12f_f4963427785alevel0_row0\" class=\"row_heading level0 row0\" >Lisosia93</th>\n",
       "                        <td id=\"T_bef6f8c0_1d72_11ea_b12f_f4963427785arow0_col0\" class=\"data row0 col0\" >5</td>\n",
       "                        <td id=\"T_bef6f8c0_1d72_11ea_b12f_f4963427785arow0_col1\" class=\"data row0 col1\" >$3.79</td>\n",
       "                        <td id=\"T_bef6f8c0_1d72_11ea_b12f_f4963427785arow0_col2\" class=\"data row0 col2\" >$18.96</td>\n",
       "            </tr>\n",
       "            <tr>\n",
       "                        <th id=\"T_bef6f8c0_1d72_11ea_b12f_f4963427785alevel0_row1\" class=\"row_heading level0 row1\" >Idastidru52</th>\n",
       "                        <td id=\"T_bef6f8c0_1d72_11ea_b12f_f4963427785arow1_col0\" class=\"data row1 col0\" >4</td>\n",
       "                        <td id=\"T_bef6f8c0_1d72_11ea_b12f_f4963427785arow1_col1\" class=\"data row1 col1\" >$3.86</td>\n",
       "                        <td id=\"T_bef6f8c0_1d72_11ea_b12f_f4963427785arow1_col2\" class=\"data row1 col2\" >$15.45</td>\n",
       "            </tr>\n",
       "            <tr>\n",
       "                        <th id=\"T_bef6f8c0_1d72_11ea_b12f_f4963427785alevel0_row2\" class=\"row_heading level0 row2\" >Chamjask73</th>\n",
       "                        <td id=\"T_bef6f8c0_1d72_11ea_b12f_f4963427785arow2_col0\" class=\"data row2 col0\" >3</td>\n",
       "                        <td id=\"T_bef6f8c0_1d72_11ea_b12f_f4963427785arow2_col1\" class=\"data row2 col1\" >$4.61</td>\n",
       "                        <td id=\"T_bef6f8c0_1d72_11ea_b12f_f4963427785arow2_col2\" class=\"data row2 col2\" >$13.83</td>\n",
       "            </tr>\n",
       "            <tr>\n",
       "                        <th id=\"T_bef6f8c0_1d72_11ea_b12f_f4963427785alevel0_row3\" class=\"row_heading level0 row3\" >Iral74</th>\n",
       "                        <td id=\"T_bef6f8c0_1d72_11ea_b12f_f4963427785arow3_col0\" class=\"data row3 col0\" >4</td>\n",
       "                        <td id=\"T_bef6f8c0_1d72_11ea_b12f_f4963427785arow3_col1\" class=\"data row3 col1\" >$3.40</td>\n",
       "                        <td id=\"T_bef6f8c0_1d72_11ea_b12f_f4963427785arow3_col2\" class=\"data row3 col2\" >$13.62</td>\n",
       "            </tr>\n",
       "            <tr>\n",
       "                        <th id=\"T_bef6f8c0_1d72_11ea_b12f_f4963427785alevel0_row4\" class=\"row_heading level0 row4\" >Iskadarya95</th>\n",
       "                        <td id=\"T_bef6f8c0_1d72_11ea_b12f_f4963427785arow4_col0\" class=\"data row4 col0\" >3</td>\n",
       "                        <td id=\"T_bef6f8c0_1d72_11ea_b12f_f4963427785arow4_col1\" class=\"data row4 col1\" >$4.37</td>\n",
       "                        <td id=\"T_bef6f8c0_1d72_11ea_b12f_f4963427785arow4_col2\" class=\"data row4 col2\" >$13.10</td>\n",
       "            </tr>\n",
       "    </tbody></table>"
      ],
      "text/plain": [
       "<pandas.io.formats.style.Styler at 0x28c18a09c08>"
      ]
     },
     "execution_count": 8,
     "metadata": {},
     "output_type": "execute_result"
    }
   ],
   "source": [
    "#Aggregating the Data by SN\n",
    "top_spenders = purchase_data.groupby(\"SN\")\n",
    "\n",
    "#Counting the Spenders by purchase ID\n",
    "pur_spender = top_spenders[\"Purchase ID\"].count()\n",
    "\n",
    "#Calculating the avg price mean \n",
    "avg_price_spender = top_spenders[\"Price\"].mean()\n",
    "\n",
    "#Calculating the total spenders \n",
    "purchase_total_spender = top_spenders[\"Price\"].sum()\n",
    "\n",
    "#Defining the data frame and assigning values\n",
    "top_spenders = pd.DataFrame({\"Purchase Count\": pur_spender,\n",
    "                             \"Average Purchase Price\": avg_price_spender,\n",
    "                             \"Total Purchase Value\":purchase_total_spender})\n",
    "#Displaying the sorted value ( top 5 )\n",
    "top_spenders_summary = top_spenders.sort_values([\"Total Purchase Value\"], ascending=False).head()\n",
    "\n",
    "#Formating the percentage column to add \" $\"  at the front of the values\n",
    "top_spenders_summary.style.format({\"Average Purchase Total\":\"${:,.2f}\",\"Average Purchase Price\":\"${:,.2f}\",\"Total Purchase Value\":\"${:,.2f}\"})"
   ]
  },
  {
   "cell_type": "markdown",
   "metadata": {},
   "source": [
    "## Most Popular Items"
   ]
  },
  {
   "cell_type": "markdown",
   "metadata": {},
   "source": [
    "* Retrieve the Item ID, Item Name, and Item Price columns\n",
    "\n",
    "\n",
    "* Group by Item ID and Item Name. Perform calculations to obtain purchase count, item price, and total purchase value\n",
    "\n",
    "\n",
    "* Create a summary data frame to hold the results\n",
    "\n",
    "\n",
    "* Sort the purchase count column in descending order\n",
    "\n",
    "\n",
    "* Optional: give the displayed data cleaner formatting\n",
    "\n",
    "\n",
    "* Display a preview of the summary data frame\n",
    "\n"
   ]
  },
  {
   "cell_type": "code",
   "execution_count": 9,
   "metadata": {},
   "outputs": [
    {
     "data": {
      "text/html": [
       "<style  type=\"text/css\" >\n",
       "</style><table id=\"T_c9cf2128_1d72_11ea_ae3d_f4963427785a\" ><thead>    <tr>        <th class=\"blank\" ></th>        <th class=\"blank level0\" ></th>        <th class=\"col_heading level0 col0\" >Purchase Count</th>        <th class=\"col_heading level0 col1\" >Item Price</th>        <th class=\"col_heading level0 col2\" >Total Purchase Value</th>    </tr>    <tr>        <th class=\"index_name level0\" >Item ID</th>        <th class=\"index_name level1\" >Item Name</th>        <th class=\"blank\" ></th>        <th class=\"blank\" ></th>        <th class=\"blank\" ></th>    </tr></thead><tbody>\n",
       "                <tr>\n",
       "                        <th id=\"T_c9cf2128_1d72_11ea_ae3d_f4963427785alevel0_row0\" class=\"row_heading level0 row0\" >178</th>\n",
       "                        <th id=\"T_c9cf2128_1d72_11ea_ae3d_f4963427785alevel1_row0\" class=\"row_heading level1 row0\" >Oathbreaker, Last Hope of the Breaking Storm</th>\n",
       "                        <td id=\"T_c9cf2128_1d72_11ea_ae3d_f4963427785arow0_col0\" class=\"data row0 col0\" >12</td>\n",
       "                        <td id=\"T_c9cf2128_1d72_11ea_ae3d_f4963427785arow0_col1\" class=\"data row0 col1\" >$4.23</td>\n",
       "                        <td id=\"T_c9cf2128_1d72_11ea_ae3d_f4963427785arow0_col2\" class=\"data row0 col2\" >$50.76</td>\n",
       "            </tr>\n",
       "            <tr>\n",
       "                        <th id=\"T_c9cf2128_1d72_11ea_ae3d_f4963427785alevel0_row1\" class=\"row_heading level0 row1\" >145</th>\n",
       "                        <th id=\"T_c9cf2128_1d72_11ea_ae3d_f4963427785alevel1_row1\" class=\"row_heading level1 row1\" >Fiery Glass Crusader</th>\n",
       "                        <td id=\"T_c9cf2128_1d72_11ea_ae3d_f4963427785arow1_col0\" class=\"data row1 col0\" >9</td>\n",
       "                        <td id=\"T_c9cf2128_1d72_11ea_ae3d_f4963427785arow1_col1\" class=\"data row1 col1\" >$4.58</td>\n",
       "                        <td id=\"T_c9cf2128_1d72_11ea_ae3d_f4963427785arow1_col2\" class=\"data row1 col2\" >$41.22</td>\n",
       "            </tr>\n",
       "            <tr>\n",
       "                        <th id=\"T_c9cf2128_1d72_11ea_ae3d_f4963427785alevel0_row2\" class=\"row_heading level0 row2\" >108</th>\n",
       "                        <th id=\"T_c9cf2128_1d72_11ea_ae3d_f4963427785alevel1_row2\" class=\"row_heading level1 row2\" >Extraction, Quickblade Of Trembling Hands</th>\n",
       "                        <td id=\"T_c9cf2128_1d72_11ea_ae3d_f4963427785arow2_col0\" class=\"data row2 col0\" >9</td>\n",
       "                        <td id=\"T_c9cf2128_1d72_11ea_ae3d_f4963427785arow2_col1\" class=\"data row2 col1\" >$3.53</td>\n",
       "                        <td id=\"T_c9cf2128_1d72_11ea_ae3d_f4963427785arow2_col2\" class=\"data row2 col2\" >$31.77</td>\n",
       "            </tr>\n",
       "            <tr>\n",
       "                        <th id=\"T_c9cf2128_1d72_11ea_ae3d_f4963427785alevel0_row3\" class=\"row_heading level0 row3\" >82</th>\n",
       "                        <th id=\"T_c9cf2128_1d72_11ea_ae3d_f4963427785alevel1_row3\" class=\"row_heading level1 row3\" >Nirvana</th>\n",
       "                        <td id=\"T_c9cf2128_1d72_11ea_ae3d_f4963427785arow3_col0\" class=\"data row3 col0\" >9</td>\n",
       "                        <td id=\"T_c9cf2128_1d72_11ea_ae3d_f4963427785arow3_col1\" class=\"data row3 col1\" >$4.90</td>\n",
       "                        <td id=\"T_c9cf2128_1d72_11ea_ae3d_f4963427785arow3_col2\" class=\"data row3 col2\" >$44.10</td>\n",
       "            </tr>\n",
       "            <tr>\n",
       "                        <th id=\"T_c9cf2128_1d72_11ea_ae3d_f4963427785alevel0_row4\" class=\"row_heading level0 row4\" >19</th>\n",
       "                        <th id=\"T_c9cf2128_1d72_11ea_ae3d_f4963427785alevel1_row4\" class=\"row_heading level1 row4\" >Pursuit, Cudgel of Necromancy</th>\n",
       "                        <td id=\"T_c9cf2128_1d72_11ea_ae3d_f4963427785arow4_col0\" class=\"data row4 col0\" >8</td>\n",
       "                        <td id=\"T_c9cf2128_1d72_11ea_ae3d_f4963427785arow4_col1\" class=\"data row4 col1\" >$1.02</td>\n",
       "                        <td id=\"T_c9cf2128_1d72_11ea_ae3d_f4963427785arow4_col2\" class=\"data row4 col2\" >$8.16</td>\n",
       "            </tr>\n",
       "    </tbody></table>"
      ],
      "text/plain": [
       "<pandas.io.formats.style.Styler at 0x28c1894d708>"
      ]
     },
     "execution_count": 9,
     "metadata": {},
     "output_type": "execute_result"
    }
   ],
   "source": [
    "#Retrieving the  Item ID, Item Name, and Item Price columns in a data Frame\n",
    "item_name = purchase_data[[\"Item ID\", \"Item Name\", \"Price\"]]\n",
    "\n",
    "#Aggregating and grouping by Item ID and Item Name\n",
    "item_group = item_name.groupby([\"Item ID\",\"Item Name\"])\n",
    "\n",
    "#Calculating the count of items on the aggregated data\n",
    "purchasing_item = item_group[\"Price\"].count()\n",
    "\n",
    "#Calculating the total sum of purchases on the aggregated data\n",
    "purchasing_value = (item_group[\"Price\"].sum()) \n",
    "\n",
    "# Calculating the Price per item\n",
    "price = purchasing_value/purchasing_item\n",
    "\n",
    "#Creating a Data Frame and adding values to display the final summary\n",
    "popular_items = pd.DataFrame({\"Purchase Count\": purchasing_item, \n",
    "                                   \"Item Price\": price,\n",
    "                                   \"Total Purchase Value\":purchasing_value})\n",
    "\n",
    "#Sorting the output by Purchase count and displaying the top 5\n",
    "most_popular_item = popular_items.sort_values([\"Purchase Count\"], ascending=False).head()\n",
    "\n",
    "#Formating the percentage column to add \" $\"  at the front of the values\n",
    "most_popular_item.style.format({\"Item Price\":\"${:,.2f}\",\"Total Purchase Value\":\"${:,.2f}\"})"
   ]
  },
  {
   "cell_type": "markdown",
   "metadata": {},
   "source": [
    "## Most Profitable Items"
   ]
  },
  {
   "cell_type": "markdown",
   "metadata": {},
   "source": [
    "* Sort the above table by total purchase value in descending order\n",
    "\n",
    "\n",
    "* Optional: give the displayed data cleaner formatting\n",
    "\n",
    "\n",
    "* Display a preview of the data frame\n",
    "\n"
   ]
  },
  {
   "cell_type": "code",
   "execution_count": 10,
   "metadata": {
    "scrolled": true
   },
   "outputs": [
    {
     "data": {
      "text/html": [
       "<style  type=\"text/css\" >\n",
       "</style><table id=\"T_e5578554_1d72_11ea_92d9_f4963427785a\" ><thead>    <tr>        <th class=\"blank\" ></th>        <th class=\"blank level0\" ></th>        <th class=\"col_heading level0 col0\" >Purchase Count</th>        <th class=\"col_heading level0 col1\" >Item Price</th>        <th class=\"col_heading level0 col2\" >Total Purchase Value</th>    </tr>    <tr>        <th class=\"index_name level0\" >Item ID</th>        <th class=\"index_name level1\" >Item Name</th>        <th class=\"blank\" ></th>        <th class=\"blank\" ></th>        <th class=\"blank\" ></th>    </tr></thead><tbody>\n",
       "                <tr>\n",
       "                        <th id=\"T_e5578554_1d72_11ea_92d9_f4963427785alevel0_row0\" class=\"row_heading level0 row0\" >178</th>\n",
       "                        <th id=\"T_e5578554_1d72_11ea_92d9_f4963427785alevel1_row0\" class=\"row_heading level1 row0\" >Oathbreaker, Last Hope of the Breaking Storm</th>\n",
       "                        <td id=\"T_e5578554_1d72_11ea_92d9_f4963427785arow0_col0\" class=\"data row0 col0\" >12</td>\n",
       "                        <td id=\"T_e5578554_1d72_11ea_92d9_f4963427785arow0_col1\" class=\"data row0 col1\" >$4.23</td>\n",
       "                        <td id=\"T_e5578554_1d72_11ea_92d9_f4963427785arow0_col2\" class=\"data row0 col2\" >$50.76</td>\n",
       "            </tr>\n",
       "            <tr>\n",
       "                        <th id=\"T_e5578554_1d72_11ea_92d9_f4963427785alevel0_row1\" class=\"row_heading level0 row1\" >82</th>\n",
       "                        <th id=\"T_e5578554_1d72_11ea_92d9_f4963427785alevel1_row1\" class=\"row_heading level1 row1\" >Nirvana</th>\n",
       "                        <td id=\"T_e5578554_1d72_11ea_92d9_f4963427785arow1_col0\" class=\"data row1 col0\" >9</td>\n",
       "                        <td id=\"T_e5578554_1d72_11ea_92d9_f4963427785arow1_col1\" class=\"data row1 col1\" >$4.90</td>\n",
       "                        <td id=\"T_e5578554_1d72_11ea_92d9_f4963427785arow1_col2\" class=\"data row1 col2\" >$44.10</td>\n",
       "            </tr>\n",
       "            <tr>\n",
       "                        <th id=\"T_e5578554_1d72_11ea_92d9_f4963427785alevel0_row2\" class=\"row_heading level0 row2\" >145</th>\n",
       "                        <th id=\"T_e5578554_1d72_11ea_92d9_f4963427785alevel1_row2\" class=\"row_heading level1 row2\" >Fiery Glass Crusader</th>\n",
       "                        <td id=\"T_e5578554_1d72_11ea_92d9_f4963427785arow2_col0\" class=\"data row2 col0\" >9</td>\n",
       "                        <td id=\"T_e5578554_1d72_11ea_92d9_f4963427785arow2_col1\" class=\"data row2 col1\" >$4.58</td>\n",
       "                        <td id=\"T_e5578554_1d72_11ea_92d9_f4963427785arow2_col2\" class=\"data row2 col2\" >$41.22</td>\n",
       "            </tr>\n",
       "            <tr>\n",
       "                        <th id=\"T_e5578554_1d72_11ea_92d9_f4963427785alevel0_row3\" class=\"row_heading level0 row3\" >92</th>\n",
       "                        <th id=\"T_e5578554_1d72_11ea_92d9_f4963427785alevel1_row3\" class=\"row_heading level1 row3\" >Final Critic</th>\n",
       "                        <td id=\"T_e5578554_1d72_11ea_92d9_f4963427785arow3_col0\" class=\"data row3 col0\" >8</td>\n",
       "                        <td id=\"T_e5578554_1d72_11ea_92d9_f4963427785arow3_col1\" class=\"data row3 col1\" >$4.88</td>\n",
       "                        <td id=\"T_e5578554_1d72_11ea_92d9_f4963427785arow3_col2\" class=\"data row3 col2\" >$39.04</td>\n",
       "            </tr>\n",
       "            <tr>\n",
       "                        <th id=\"T_e5578554_1d72_11ea_92d9_f4963427785alevel0_row4\" class=\"row_heading level0 row4\" >103</th>\n",
       "                        <th id=\"T_e5578554_1d72_11ea_92d9_f4963427785alevel1_row4\" class=\"row_heading level1 row4\" >Singed Scalpel</th>\n",
       "                        <td id=\"T_e5578554_1d72_11ea_92d9_f4963427785arow4_col0\" class=\"data row4 col0\" >8</td>\n",
       "                        <td id=\"T_e5578554_1d72_11ea_92d9_f4963427785arow4_col1\" class=\"data row4 col1\" >$4.35</td>\n",
       "                        <td id=\"T_e5578554_1d72_11ea_92d9_f4963427785arow4_col2\" class=\"data row4 col2\" >$34.80</td>\n",
       "            </tr>\n",
       "    </tbody></table>"
      ],
      "text/plain": [
       "<pandas.io.formats.style.Styler at 0x28c189f7808>"
      ]
     },
     "execution_count": 10,
     "metadata": {},
     "output_type": "execute_result"
    }
   ],
   "source": [
    "#Sort the above Data Frame by total purchase value in descending order\n",
    "most_profitable_item = popular_items.sort_values([\"Total Purchase Value\"],ascending=False).head()\n",
    "\n",
    "#Formating the percentage column to add \" $\"  at the front of the values\n",
    "most_profitable_item.style.format({\"Item Price\":\"${:,.2f}\",\"Total Purchase Value\":\"${:,.2f}\"})"
   ]
  },
  {
   "cell_type": "code",
   "execution_count": null,
   "metadata": {},
   "outputs": [],
   "source": []
  }
 ],
 "metadata": {
  "anaconda-cloud": {},
  "kernel_info": {
   "name": "python3"
  },
  "kernelspec": {
   "display_name": "Python 3",
   "language": "python",
   "name": "python3"
  },
  "language_info": {
   "codemirror_mode": {
    "name": "ipython",
    "version": 3
   },
   "file_extension": ".py",
   "mimetype": "text/x-python",
   "name": "python",
   "nbconvert_exporter": "python",
   "pygments_lexer": "ipython3",
   "version": "3.7.4"
  },
  "latex_envs": {
   "LaTeX_envs_menu_present": true,
   "autoclose": false,
   "autocomplete": true,
   "bibliofile": "biblio.bib",
   "cite_by": "apalike",
   "current_citInitial": 1,
   "eqLabelWithNumbers": true,
   "eqNumInitial": 1,
   "hotkeys": {
    "equation": "Ctrl-E",
    "itemize": "Ctrl-I"
   },
   "labels_anchors": false,
   "latex_user_defs": false,
   "report_style_numbering": false,
   "user_envs_cfg": false
  },
  "nteract": {
   "version": "0.2.0"
  }
 },
 "nbformat": 4,
 "nbformat_minor": 2
}
