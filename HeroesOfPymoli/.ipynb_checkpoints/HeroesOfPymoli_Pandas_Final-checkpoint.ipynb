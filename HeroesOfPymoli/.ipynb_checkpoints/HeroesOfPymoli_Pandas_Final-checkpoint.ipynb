{
 "cells": [
  {
   "cell_type": "markdown",
   "metadata": {},
   "source": [
    "### Note\n",
    "* Instructions have been included for each segment. You do not have to follow them exactly, but they are included to help you think through the steps."
   ]
  },
  {
   "cell_type": "code",
   "execution_count": null,
   "metadata": {},
   "outputs": [],
   "source": [
    "# Dependencies and Setup\n",
    "import pandas as pd\n",
    "\n",
    "# File to Load (Remember to Change These)\n",
    "file_to_load = \"purchase_data.csv\"\n",
    "\n",
    "# Read Purchasing File and store into Pandas data frame\n",
    "purchase_data = pd.read_csv(file_to_load)\n",
    "purchase_data.head()"
   ]
  },
  {
   "cell_type": "markdown",
   "metadata": {},
   "source": [
    "## Player Count"
   ]
  },
  {
   "cell_type": "markdown",
   "metadata": {},
   "source": [
    "* Display the total number of players\n"
   ]
  },
  {
   "cell_type": "code",
   "execution_count": null,
   "metadata": {
    "scrolled": true
   },
   "outputs": [],
   "source": [
    "#Finding the unique count of players using nunique function\n",
    "unique_count = purchase_data[\"SN\"].nunique(dropna = True) \n",
    "\n",
    "#Creating a DataFrame for the unique value count of players\n",
    "Total_players = pd.DataFrame([{\"Total Players\": unique_count }])\n",
    "\n",
    "#Printing the DataFrame\n",
    "Total_players"
   ]
  },
  {
   "cell_type": "markdown",
   "metadata": {},
   "source": [
    "## Purchasing Analysis (Total)"
   ]
  },
  {
   "cell_type": "markdown",
   "metadata": {},
   "source": [
    "* Run basic calculations to obtain number of unique items, average price, etc.\n",
    "\n",
    "\n",
    "* Create a summary data frame to hold the results\n",
    "\n",
    "\n",
    "* Optional: give the displayed data cleaner formatting\n",
    "\n",
    "\n",
    "* Display the summary data frame\n"
   ]
  },
  {
   "cell_type": "code",
   "execution_count": null,
   "metadata": {
    "scrolled": true
   },
   "outputs": [],
   "source": [
    "#Calculating unique count of Items\n",
    "unique_item = purchase_data[\"Item Name\"].nunique(dropna = True) \n",
    "\n",
    "\n",
    "# Calculating average price of the items from the given data and rounding it by 2 decimals\n",
    "average_price = round(purchase_data[\"Price\"].mean() , 2)\n",
    "\n",
    "\n",
    "# Calculating the total number of unique purchases\n",
    "purchase_count = purchase_data[\"Purchase ID\"].nunique(dropna = True)\n",
    "\n",
    "\n",
    "#Calculating the total revinue\n",
    "Total_rev = purchase_data[\"Price\"].sum()\n",
    "\n",
    "\n",
    "#Defining the DataFrame \n",
    "\n",
    "purchasing_analysis = pd.DataFrame ( {\n",
    "        \"Number of Unique Items\" : [unique_item],\n",
    "        \"Average Price\" : [average_price],\n",
    "        \"Number of Purchases\": [purchase_count],\n",
    "        \"Total Revenue\" : [Total_rev]    \n",
    "})\n",
    "\n",
    "#Printing the DataFrame for summary\n",
    "purchasing_analysis"
   ]
  },
  {
   "cell_type": "markdown",
   "metadata": {},
   "source": [
    "## Gender Demographics"
   ]
  },
  {
   "cell_type": "markdown",
   "metadata": {},
   "source": [
    "* Percentage and Count of Male Players\n",
    "\n",
    "\n",
    "* Percentage and Count of Female Players\n",
    "\n",
    "\n",
    "* Percentage and Count of Other / Non-Disclosed\n",
    "\n",
    "\n"
   ]
  },
  {
   "cell_type": "code",
   "execution_count": null,
   "metadata": {},
   "outputs": [],
   "source": [
    "#Finding the count of unique Players by doing Group by Gender\n",
    "unique_gender = purchase_data.groupby(\"Gender\") [\"SN\"].nunique(dropna = True)\n",
    "\n",
    "#Creating a DataFrame\n",
    "count_players = pd.DataFrame(unique_gender)\n",
    "\n",
    "#Renaming the columns of DataFrame\n",
    "count_players = count_players.rename(columns={\"SN\" : \"Total Count\"})\n",
    "\n",
    "#Calculating the sum of Total unique players\n",
    "sum = count_players[\"Total Count\"].sum()\n",
    "\n",
    "#Calculating the percentage of players by Gender\n",
    "player_percent = count_players[\"Total Count\"] / sum * 100 \n",
    "\n",
    "#Rounding the percentage of players to 2 decimals\n",
    "count_players[\"Percentage of Players\"] = round(player_percent, 2)\n",
    "\n",
    "#Formating the percentage column to add \" % \"  at the end\n",
    "count_players.style.format({\"Percentage of Players\" : \"{:,.2f}%\"} )"
   ]
  },
  {
   "cell_type": "markdown",
   "metadata": {},
   "source": [
    "\n",
    "## Purchasing Analysis (Gender)"
   ]
  },
  {
   "cell_type": "markdown",
   "metadata": {},
   "source": [
    "* Run basic calculations to obtain purchase count, avg. purchase price, avg. purchase total per person etc. by gender\n",
    "\n",
    "\n",
    "\n",
    "\n",
    "* Create a summary data frame to hold the results\n",
    "\n",
    "\n",
    "* Optional: give the displayed data cleaner formatting\n",
    "\n",
    "\n",
    "* Display the summary data frame"
   ]
  },
  {
   "cell_type": "code",
   "execution_count": null,
   "metadata": {},
   "outputs": [],
   "source": [
    "\n",
    "#Calculating the total purchases\n",
    "purchase_sum = purchase_data.groupby(\"Gender\") [\"Price\"].sum()\n",
    "purchase_sum\n",
    "\n",
    "#Calculating the purchase average price by Gender and rounding it  to 2 Decimals\n",
    "purchase_avg = round(purchase_data.groupby(\"Gender\") [\"Price\"].mean() , 2)\n",
    "purchase_avg\n",
    "\n",
    "#Counting the unique purchase ID's by Gender\n",
    "purchase_count = purchase_data.groupby(\"Gender\") [\"Purchase ID\"].nunique(dropna = True)\n",
    "purchase_count\n",
    "\n",
    "count = purchase_data.groupby(\"Gender\") [\"Price\"].mean()\n",
    "\n",
    "#Calculating and Rounding the Average Purchase per person to 2 decimal\n",
    "avg_purchase_per_person = round(purchase_sum/unique_gender, 2)\n",
    "\n",
    "#Defining the dataframe and adding columns for Purchase avg, purchase count and avg purchase per person\n",
    "df1 =  pd.DataFrame(purchase_sum)\n",
    "df1 [\"Average Purchase Price\"] = purchase_avg\n",
    "df1 [\"Purchase count\"] = purchase_count\n",
    "df1 [\"Avg Total Purchase per Person\"] = avg_purchase_per_person\n",
    "\n",
    "#Renaming columns and creating a new DataFrame for final output\n",
    "Pur_analysis_gender =  df1.rename(columns={\"Price\": \"Total Purchase Value\", })\n",
    "\n",
    "#Formating the percentage column to add \" $\"  at the front of Values\n",
    "Pur_analysis_gender.style.format({\"Total Purchase Value\": \"${:,.2f}\", \n",
    "                                 \"Average Purchase Price\": \"${:,.2f}\",\n",
    "                                 \"Avg Total Purchase per Person\": \"${:,.2f}\" })\n"
   ]
  },
  {
   "cell_type": "markdown",
   "metadata": {},
   "source": [
    "## Age Demographics"
   ]
  },
  {
   "cell_type": "markdown",
   "metadata": {},
   "source": [
    "* Establish bins for ages\n",
    "\n",
    "\n",
    "* Categorize the existing players using the age bins. Hint: use pd.cut()\n",
    "\n",
    "\n",
    "* Calculate the numbers and percentages by age group\n",
    "\n",
    "\n",
    "* Create a summary data frame to hold the results\n",
    "\n",
    "\n",
    "* Optional: round the percentage column to two decimal points\n",
    "\n",
    "\n",
    "* Display Age Demographics Table\n"
   ]
  },
  {
   "cell_type": "code",
   "execution_count": null,
   "metadata": {},
   "outputs": [],
   "source": [
    "#Define the bins for age groups\n",
    "bins_age = [0, 9.99, 14, 19, 24, 29, 34, 39, 100]\n",
    "\n",
    "#Define the lables group names\n",
    "grouped_name = [\"< 10\", \"10-14\", \"15-19\", \"20-24\", \"25-29\", \"30-34\", \"35-39\", \"40+\"]\n",
    "\n",
    "#Adding Age group classification column and cut it to group into buckets\n",
    "purchase_data[\"Age Group\"] = pd.cut(purchase_data[\"Age\"],bins_age, labels=grouped_name)\n",
    "\n",
    "#Aggregating all the data sets by using group by on Age Group\n",
    "age_group = purchase_data.groupby(\"Age Group\")\n",
    "\n",
    "#Calculating the unique Total age by name\n",
    "total_age = age_group[\"SN\"].nunique()\n",
    "\n",
    "#Calculating the percentage of age group \n",
    "percentage_age = (total_age/sum ) * 100\n",
    "\n",
    "#Defining the Data Frame\n",
    "age_demographics = pd.DataFrame({\"Total Count\":total_age,\"Percentage of Players\": percentage_age})\n",
    "\n",
    "#Index set to none for siaplaying the final summary\n",
    "age_demographics.index.name = None\n",
    "\n",
    "#Formating the percentage column to add \" %\"  at the end\n",
    "age_demographics.style.format({\"Percentage of Players\":\"{:,.2f}%\"})"
   ]
  },
  {
   "cell_type": "markdown",
   "metadata": {},
   "source": [
    "## Purchasing Analysis (Age)"
   ]
  },
  {
   "cell_type": "markdown",
   "metadata": {},
   "source": [
    "* Bin the purchase_data data frame by age\n",
    "\n",
    "\n",
    "* Run basic calculations to obtain purchase count, avg. purchase price, avg. purchase total per person etc. in the table below\n",
    "\n",
    "\n",
    "* Create a summary data frame to hold the results\n",
    "\n",
    "\n",
    "* Optional: give the displayed data cleaner formatting\n",
    "\n",
    "\n",
    "* Display the summary data frame"
   ]
  },
  {
   "cell_type": "code",
   "execution_count": null,
   "metadata": {},
   "outputs": [],
   "source": [
    "#Define the bins for age groups\n",
    "bins_age = [0, 9.99, 14, 19, 24, 29, 34, 39, 100]\n",
    "\n",
    "#Define the lables group names\n",
    "grouped_name = [\">10\", \"10-14\", \"15-19\", \"20-24\", \"25-29\", \"30-34\", \"35-39\", \"40+\"]\n",
    "\n",
    "#Aggregating all the data sets by using group by on Age Group\n",
    "age_group = purchase_data.groupby(\"Age Group\")\n",
    "\n",
    "#Calculating the count of purchase ID by age group.\n",
    "pur_age_count = age_group[\"Purchase ID\"].count()\n",
    "\n",
    "#Calculating the Avg Purchase Price i.e mean on Price by age\n",
    "Avg_pur_price_age = age_group[\"Price\"].mean()\n",
    "\n",
    "#Calculating the total purchase value \n",
    "total_purchase_value = age_group[\"Price\"].sum()\n",
    "\n",
    "#Calculating the avg purchase price age\n",
    "Avg_pur_price_age = total_purchase_value/total_age\n",
    "\n",
    "#Defining the DataFrame for Final output\n",
    "age_pur_analysis = pd.DataFrame({\"Purchase Count\": pur_age_count,\n",
    "                                 \"Average Purchase Price\": Avg_pur_price_age,\n",
    "                                 \"Total Purchase Value\":total_purchase_value,\n",
    "                                 \"Average Purchase Total per Person\": Avg_pur_price_age})\n",
    "#Index set to none for siaplaying the final summary\n",
    "age_pur_analysis.index.name = None\n",
    "\n",
    "#Formating the percentage column to add \" %\"  at the end\n",
    "age_pur_analysis.style.format({\"Average Purchase Price\":\"${:,.2f}\",\"Total Purchase Value\":\"${:,.2f}\",\n",
    "                               \"Average Purchase Total per Person\":\"${:,.2f}\"})"
   ]
  },
  {
   "cell_type": "markdown",
   "metadata": {},
   "source": [
    "## Top Spenders"
   ]
  },
  {
   "cell_type": "markdown",
   "metadata": {},
   "source": [
    "* Run basic calculations to obtain the results in the table below\n",
    "\n",
    "\n",
    "* Create a summary data frame to hold the results\n",
    "\n",
    "\n",
    "* Sort the total purchase value column in descending order\n",
    "\n",
    "\n",
    "* Optional: give the displayed data cleaner formatting\n",
    "\n",
    "\n",
    "* Display a preview of the summary data frame\n",
    "\n"
   ]
  },
  {
   "cell_type": "code",
   "execution_count": null,
   "metadata": {},
   "outputs": [],
   "source": [
    "#Aggregating the Data by SN\n",
    "top_spenders = purchase_data.groupby(\"SN\")\n",
    "\n",
    "#Counting the Spenders by purchase ID\n",
    "pur_spender = top_spenders[\"Purchase ID\"].count()\n",
    "\n",
    "#Calculating the avg price mean \n",
    "avg_price_spender = top_spenders[\"Price\"].mean()\n",
    "\n",
    "#Calculating the total spenders \n",
    "purchase_total_spender = top_spenders[\"Price\"].sum()\n",
    "\n",
    "#Defining the data frame and assigning values\n",
    "top_spenders = pd.DataFrame({\"Purchase Count\": pur_spender,\n",
    "                             \"Average Purchase Price\": avg_price_spender,\n",
    "                             \"Total Purchase Value\":purchase_total_spender})\n",
    "#Displaying the sorted value ( top 5 )\n",
    "top_spenders_summary = top_spenders.sort_values([\"Total Purchase Value\"], ascending=False).head()\n",
    "\n",
    "#Formating the percentage column to add \" $\"  at the front of the values\n",
    "top_spenders_summary.style.format({\"Average Purchase Total\":\"${:,.2f}\",\"Average Purchase Price\":\"${:,.2f}\",\"Total Purchase Value\":\"${:,.2f}\"})"
   ]
  },
  {
   "cell_type": "markdown",
   "metadata": {},
   "source": [
    "## Most Popular Items"
   ]
  },
  {
   "cell_type": "markdown",
   "metadata": {},
   "source": [
    "* Retrieve the Item ID, Item Name, and Item Price columns\n",
    "\n",
    "\n",
    "* Group by Item ID and Item Name. Perform calculations to obtain purchase count, item price, and total purchase value\n",
    "\n",
    "\n",
    "* Create a summary data frame to hold the results\n",
    "\n",
    "\n",
    "* Sort the purchase count column in descending order\n",
    "\n",
    "\n",
    "* Optional: give the displayed data cleaner formatting\n",
    "\n",
    "\n",
    "* Display a preview of the summary data frame\n",
    "\n"
   ]
  },
  {
   "cell_type": "code",
   "execution_count": null,
   "metadata": {},
   "outputs": [],
   "source": [
    "#Retrieving the  Item ID, Item Name, and Item Price columns in a data Frame\n",
    "item_name = purchase_data[[\"Item ID\", \"Item Name\", \"Price\"]]\n",
    "\n",
    "#Aggregating and grouping by Item ID and Item Name\n",
    "item_group = item_name.groupby([\"Item ID\",\"Item Name\"])\n",
    "\n",
    "#Calculating the count of items on the aggregated data\n",
    "purchasing_item = item_group[\"Price\"].count()\n",
    "\n",
    "#Calculating the total sum of purchases on the aggregated data\n",
    "purchasing_value = (item_group[\"Price\"].sum()) \n",
    "\n",
    "# Calculating the Price per item\n",
    "price = purchasing_value/purchasing_item\n",
    "\n",
    "#Creating a Data Frame and adding values to display the final summary\n",
    "popular_items = pd.DataFrame({\"Purchase Count\": purchasing_item, \n",
    "                                   \"Item Price\": price,\n",
    "                                   \"Total Purchase Value\":purchasing_value})\n",
    "\n",
    "#Sorting the output by Purchase count and displaying the top 5\n",
    "most_popular_item = popular_items.sort_values([\"Purchase Count\"], ascending=False).head()\n",
    "\n",
    "#Formating the percentage column to add \" $\"  at the front of the values\n",
    "most_popular_item.style.format({\"Item Price\":\"${:,.2f}\",\"Total Purchase Value\":\"${:,.2f}\"})"
   ]
  },
  {
   "cell_type": "markdown",
   "metadata": {},
   "source": [
    "## Most Profitable Items"
   ]
  },
  {
   "cell_type": "markdown",
   "metadata": {},
   "source": [
    "* Sort the above table by total purchase value in descending order\n",
    "\n",
    "\n",
    "* Optional: give the displayed data cleaner formatting\n",
    "\n",
    "\n",
    "* Display a preview of the data frame\n",
    "\n"
   ]
  },
  {
   "cell_type": "code",
   "execution_count": null,
   "metadata": {
    "scrolled": true
   },
   "outputs": [],
   "source": [
    "#Sort the above Data Frame by total purchase value in descending order\n",
    "most_profitable_item = popular_items.sort_values([\"Total Purchase Value\"],ascending=False).head()\n",
    "\n",
    "#Formating the percentage column to add \" $\"  at the front of the values\n",
    "most_profitable_item.style.format({\"Item Price\":\"${:,.2f}\",\"Total Purchase Value\":\"${:,.2f}\"})"
   ]
  },
  {
   "cell_type": "code",
   "execution_count": null,
   "metadata": {},
   "outputs": [],
   "source": []
  }
 ],
 "metadata": {
  "anaconda-cloud": {},
  "kernel_info": {
   "name": "python3"
  },
  "kernelspec": {
   "display_name": "Python 3",
   "language": "python",
   "name": "python3"
  },
  "language_info": {
   "codemirror_mode": {
    "name": "ipython",
    "version": 3
   },
   "file_extension": ".py",
   "mimetype": "text/x-python",
   "name": "python",
   "nbconvert_exporter": "python",
   "pygments_lexer": "ipython3",
   "version": "3.7.4"
  },
  "latex_envs": {
   "LaTeX_envs_menu_present": true,
   "autoclose": false,
   "autocomplete": true,
   "bibliofile": "biblio.bib",
   "cite_by": "apalike",
   "current_citInitial": 1,
   "eqLabelWithNumbers": true,
   "eqNumInitial": 1,
   "hotkeys": {
    "equation": "Ctrl-E",
    "itemize": "Ctrl-I"
   },
   "labels_anchors": false,
   "latex_user_defs": false,
   "report_style_numbering": false,
   "user_envs_cfg": false
  },
  "nteract": {
   "version": "0.2.0"
  }
 },
 "nbformat": 4,
 "nbformat_minor": 2
}
